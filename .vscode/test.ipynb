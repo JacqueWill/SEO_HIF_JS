{
 "cells": [
  {
   "cell_type": "code",
   "execution_count": 1,
   "metadata": {},
   "outputs": [],
   "source": [
    "import pandas as pd\n",
    "import requests\n",
    "from duckduckpy import query\n",
    "import json"
   ]
  },
  {
   "cell_type": "code",
   "execution_count": 2,
   "metadata": {},
   "outputs": [],
   "source": [
    "df = pd.read_csv('../testing_data/Hall.csv')\n"
   ]
  },
  {
   "cell_type": "code",
   "execution_count": 3,
   "metadata": {},
   "outputs": [
    {
     "data": {
      "text/html": [
       "<div>\n",
       "<style scoped>\n",
       "    .dataframe tbody tr th:only-of-type {\n",
       "        vertical-align: middle;\n",
       "    }\n",
       "\n",
       "    .dataframe tbody tr th {\n",
       "        vertical-align: top;\n",
       "    }\n",
       "\n",
       "    .dataframe thead th {\n",
       "        text-align: right;\n",
       "    }\n",
       "</style>\n",
       "<table border=\"1\" class=\"dataframe\">\n",
       "  <thead>\n",
       "    <tr style=\"text-align: right;\">\n",
       "      <th></th>\n",
       "      <th>Document Title</th>\n",
       "      <th>Abstract</th>\n",
       "      <th>Year</th>\n",
       "      <th>PDF Link</th>\n",
       "      <th>label</th>\n",
       "    </tr>\n",
       "  </thead>\n",
       "  <tbody>\n",
       "    <tr>\n",
       "      <th>0</th>\n",
       "      <td>Sinogram-based motion correction of PET images...</td>\n",
       "      <td>A head motion during brain imaging has been re...</td>\n",
       "      <td>2002</td>\n",
       "      <td>http://ieeexplore.ieee.org/stamp/stamp.jsp?arn...</td>\n",
       "      <td>no</td>\n",
       "    </tr>\n",
       "    <tr>\n",
       "      <th>1</th>\n",
       "      <td>A fault tolerant control architecture for auto...</td>\n",
       "      <td>A hierarchical controller for dealing with fau...</td>\n",
       "      <td>2000</td>\n",
       "      <td>http://ieeexplore.ieee.org/stamp/stamp.jsp?arn...</td>\n",
       "      <td>no</td>\n",
       "    </tr>\n",
       "    <tr>\n",
       "      <th>2</th>\n",
       "      <td>Fault tolerant memory design for HW/SW co-reli...</td>\n",
       "      <td>A highly dependable embedded fault-tolerant me...</td>\n",
       "      <td>2003</td>\n",
       "      <td>http://ieeexplore.ieee.org/stamp/stamp.jsp?arn...</td>\n",
       "      <td>no</td>\n",
       "    </tr>\n",
       "    <tr>\n",
       "      <th>3</th>\n",
       "      <td>Efficient color correction approach for phase ...</td>\n",
       "      <td>A highly efficient color correction approach b...</td>\n",
       "      <td>2010</td>\n",
       "      <td>http://ieeexplore.ieee.org/stamp/stamp.jsp?arn...</td>\n",
       "      <td>no</td>\n",
       "    </tr>\n",
       "    <tr>\n",
       "      <th>4</th>\n",
       "      <td>High-performance line conditioner with output ...</td>\n",
       "      <td>A high-performance line conditioner with excel...</td>\n",
       "      <td>2004</td>\n",
       "      <td>http://ieeexplore.ieee.org/stamp/stamp.jsp?arn...</td>\n",
       "      <td>no</td>\n",
       "    </tr>\n",
       "  </tbody>\n",
       "</table>\n",
       "</div>"
      ],
      "text/plain": [
       "                                      Document Title  \\\n",
       "0  Sinogram-based motion correction of PET images...   \n",
       "1  A fault tolerant control architecture for auto...   \n",
       "2  Fault tolerant memory design for HW/SW co-reli...   \n",
       "3  Efficient color correction approach for phase ...   \n",
       "4  High-performance line conditioner with output ...   \n",
       "\n",
       "                                            Abstract  Year  \\\n",
       "0  A head motion during brain imaging has been re...  2002   \n",
       "1  A hierarchical controller for dealing with fau...  2000   \n",
       "2  A highly dependable embedded fault-tolerant me...  2003   \n",
       "3  A highly efficient color correction approach b...  2010   \n",
       "4  A high-performance line conditioner with excel...  2004   \n",
       "\n",
       "                                            PDF Link label  \n",
       "0  http://ieeexplore.ieee.org/stamp/stamp.jsp?arn...    no  \n",
       "1  http://ieeexplore.ieee.org/stamp/stamp.jsp?arn...    no  \n",
       "2  http://ieeexplore.ieee.org/stamp/stamp.jsp?arn...    no  \n",
       "3  http://ieeexplore.ieee.org/stamp/stamp.jsp?arn...    no  \n",
       "4  http://ieeexplore.ieee.org/stamp/stamp.jsp?arn...    no  "
      ]
     },
     "execution_count": 3,
     "metadata": {},
     "output_type": "execute_result"
    }
   ],
   "source": [
    "df.head()"
   ]
  },
  {
   "cell_type": "code",
   "execution_count": 4,
   "metadata": {},
   "outputs": [],
   "source": [
    "df.rename(columns = {'Document Title':'name', 'Abstract':'snippet', 'PDF Link':'url'}, inplace = True)"
   ]
  },
  {
   "cell_type": "code",
   "execution_count": 5,
   "metadata": {},
   "outputs": [
    {
     "data": {
      "text/html": [
       "<div>\n",
       "<style scoped>\n",
       "    .dataframe tbody tr th:only-of-type {\n",
       "        vertical-align: middle;\n",
       "    }\n",
       "\n",
       "    .dataframe tbody tr th {\n",
       "        vertical-align: top;\n",
       "    }\n",
       "\n",
       "    .dataframe thead th {\n",
       "        text-align: right;\n",
       "    }\n",
       "</style>\n",
       "<table border=\"1\" class=\"dataframe\">\n",
       "  <thead>\n",
       "    <tr style=\"text-align: right;\">\n",
       "      <th></th>\n",
       "      <th>name</th>\n",
       "      <th>snippet</th>\n",
       "      <th>Year</th>\n",
       "      <th>url</th>\n",
       "      <th>label</th>\n",
       "    </tr>\n",
       "  </thead>\n",
       "  <tbody>\n",
       "    <tr>\n",
       "      <th>0</th>\n",
       "      <td>Sinogram-based motion correction of PET images...</td>\n",
       "      <td>A head motion during brain imaging has been re...</td>\n",
       "      <td>2002</td>\n",
       "      <td>http://ieeexplore.ieee.org/stamp/stamp.jsp?arn...</td>\n",
       "      <td>no</td>\n",
       "    </tr>\n",
       "    <tr>\n",
       "      <th>1</th>\n",
       "      <td>A fault tolerant control architecture for auto...</td>\n",
       "      <td>A hierarchical controller for dealing with fau...</td>\n",
       "      <td>2000</td>\n",
       "      <td>http://ieeexplore.ieee.org/stamp/stamp.jsp?arn...</td>\n",
       "      <td>no</td>\n",
       "    </tr>\n",
       "    <tr>\n",
       "      <th>2</th>\n",
       "      <td>Fault tolerant memory design for HW/SW co-reli...</td>\n",
       "      <td>A highly dependable embedded fault-tolerant me...</td>\n",
       "      <td>2003</td>\n",
       "      <td>http://ieeexplore.ieee.org/stamp/stamp.jsp?arn...</td>\n",
       "      <td>no</td>\n",
       "    </tr>\n",
       "    <tr>\n",
       "      <th>3</th>\n",
       "      <td>Efficient color correction approach for phase ...</td>\n",
       "      <td>A highly efficient color correction approach b...</td>\n",
       "      <td>2010</td>\n",
       "      <td>http://ieeexplore.ieee.org/stamp/stamp.jsp?arn...</td>\n",
       "      <td>no</td>\n",
       "    </tr>\n",
       "    <tr>\n",
       "      <th>4</th>\n",
       "      <td>High-performance line conditioner with output ...</td>\n",
       "      <td>A high-performance line conditioner with excel...</td>\n",
       "      <td>2004</td>\n",
       "      <td>http://ieeexplore.ieee.org/stamp/stamp.jsp?arn...</td>\n",
       "      <td>no</td>\n",
       "    </tr>\n",
       "  </tbody>\n",
       "</table>\n",
       "</div>"
      ],
      "text/plain": [
       "                                                name  \\\n",
       "0  Sinogram-based motion correction of PET images...   \n",
       "1  A fault tolerant control architecture for auto...   \n",
       "2  Fault tolerant memory design for HW/SW co-reli...   \n",
       "3  Efficient color correction approach for phase ...   \n",
       "4  High-performance line conditioner with output ...   \n",
       "\n",
       "                                             snippet  Year  \\\n",
       "0  A head motion during brain imaging has been re...  2002   \n",
       "1  A hierarchical controller for dealing with fau...  2000   \n",
       "2  A highly dependable embedded fault-tolerant me...  2003   \n",
       "3  A highly efficient color correction approach b...  2010   \n",
       "4  A high-performance line conditioner with excel...  2004   \n",
       "\n",
       "                                                 url label  \n",
       "0  http://ieeexplore.ieee.org/stamp/stamp.jsp?arn...    no  \n",
       "1  http://ieeexplore.ieee.org/stamp/stamp.jsp?arn...    no  \n",
       "2  http://ieeexplore.ieee.org/stamp/stamp.jsp?arn...    no  \n",
       "3  http://ieeexplore.ieee.org/stamp/stamp.jsp?arn...    no  \n",
       "4  http://ieeexplore.ieee.org/stamp/stamp.jsp?arn...    no  "
      ]
     },
     "execution_count": 5,
     "metadata": {},
     "output_type": "execute_result"
    }
   ],
   "source": [
    "df.head()"
   ]
  },
  {
   "cell_type": "code",
   "execution_count": 12,
   "metadata": {},
   "outputs": [],
   "source": [
    "df.to_json('../testing_data/Hall.json',orient='records')"
   ]
  },
  {
   "cell_type": "code",
   "execution_count": null,
   "metadata": {},
   "outputs": [],
   "source": []
  },
  {
   "cell_type": "code",
   "execution_count": null,
   "metadata": {},
   "outputs": [],
   "source": []
  },
  {
   "cell_type": "code",
   "execution_count": 38,
   "metadata": {},
   "outputs": [],
   "source": [
    "with open('response.json', 'w') as json_file:\n",
    "    json.dump(response, json_file)"
   ]
  },
  {
   "cell_type": "code",
   "execution_count": null,
   "metadata": {},
   "outputs": [],
   "source": []
  }
 ],
 "metadata": {
  "kernelspec": {
   "display_name": "Python 3",
   "language": "python",
   "name": "python3"
  },
  "language_info": {
   "codemirror_mode": {
    "name": "ipython",
    "version": 3
   },
   "file_extension": ".py",
   "mimetype": "text/x-python",
   "name": "python",
   "nbconvert_exporter": "python",
   "pygments_lexer": "ipython3",
   "version": "3.10.10"
  },
  "orig_nbformat": 4
 },
 "nbformat": 4,
 "nbformat_minor": 2
}
